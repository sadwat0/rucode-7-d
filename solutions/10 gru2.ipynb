{
 "cells": [
  {
   "cell_type": "code",
   "execution_count": 34,
   "metadata": {},
   "outputs": [],
   "source": [
    "import numpy as np\n",
    "import torch\n",
    "import torch.nn as nn\n",
    "from tqdm import tqdm, trange\n",
    "import matplotlib.pyplot as plt\n",
    "from torch.utils.data import Dataset, DataLoader\n",
    "from sklearn.model_selection import train_test_split\n",
    "from typing import List\n",
    "from IPython.display import clear_output"
   ]
  },
  {
   "cell_type": "code",
   "execution_count": 35,
   "metadata": {},
   "outputs": [],
   "source": [
    "LETTERS = \"qабвгдежзийклмнопрстуфхцчшщъыьэюяё\"\n",
    "VOWELS = \"аеиоуэюяыё\"\n",
    "N_LETTERS = len(LETTERS)\n",
    "MAX_WORD_LENGTH = 36\n",
    "\n",
    "char2ind = {char: i for i, char in enumerate(LETTERS)}\n",
    "ind2char = {i: char for char, i in char2ind.items()}"
   ]
  },
  {
   "cell_type": "code",
   "execution_count": 36,
   "metadata": {},
   "outputs": [
    {
     "data": {
      "text/plain": [
       "['аа^к', 'аа^ка', 'аа^ке', 'аа^ки', 'аа^ков']"
      ]
     },
     "execution_count": 36,
     "metadata": {},
     "output_type": "execute_result"
    }
   ],
   "source": [
    "train = open('data/train_stresses_labels.txt', 'r', encoding=\"utf8\").readlines()\n",
    "for i in range(len(train)):\n",
    "    train[i] = train[i][:-1]\n",
    "train[:5]"
   ]
  },
  {
   "cell_type": "code",
   "execution_count": 37,
   "metadata": {},
   "outputs": [
    {
     "data": {
      "text/plain": [
       "['аакам', 'ааками', 'ааленец', 'аама', 'аамами']"
      ]
     },
     "execution_count": 37,
     "metadata": {},
     "output_type": "execute_result"
    }
   ],
   "source": [
    "test = open('data/public_test_stresses.txt', 'r', encoding=\"utf8\").readlines()\n",
    "for i in range(len(test)):\n",
    "    test[i] = test[i][:-1]\n",
    "test[:5]"
   ]
  },
  {
   "cell_type": "code",
   "execution_count": 38,
   "metadata": {},
   "outputs": [
    {
     "name": "stderr",
     "output_type": "stream",
     "text": [
      " 17%|█▋        | 101293/588490 [00:00<00:00, 1012889.91it/s]"
     ]
    },
    {
     "name": "stderr",
     "output_type": "stream",
     "text": [
      "100%|██████████| 588490/588490 [00:00<00:00, 1020107.83it/s]\n"
     ]
    },
    {
     "data": {
      "text/plain": [
       "(['аак', 'аака', 'ааке', 'ааки', 'ааков'], [2, 2, 2, 2, 2])"
      ]
     },
     "execution_count": 38,
     "metadata": {},
     "output_type": "execute_result"
    }
   ],
   "source": [
    "X, y = [], []\n",
    "for i in tqdm(range(len(train))):\n",
    "    X.append(train[i].replace('^', ''))\n",
    "    correct_pos = train[i].find('^')\n",
    "    y.append(correct_pos)\n",
    "X[:5], y[:5]"
   ]
  },
  {
   "cell_type": "code",
   "execution_count": 39,
   "metadata": {},
   "outputs": [],
   "source": [
    "X_train, X_val, y_train, y_val = train_test_split(X, y, test_size=0.05, random_state=42)\n",
    "# X_train, y_train = X, y"
   ]
  },
  {
   "cell_type": "code",
   "execution_count": 40,
   "metadata": {},
   "outputs": [],
   "source": [
    "device = 'cuda:0' if torch.cuda.is_available() else 'cpu'"
   ]
  },
  {
   "cell_type": "code",
   "execution_count": 41,
   "metadata": {},
   "outputs": [],
   "source": [
    "class CustomDataset:\n",
    "    def __init__(self, X, y):\n",
    "        self.data = []\n",
    "        self.pad_id = char2ind['q']\n",
    "        \n",
    "        assert len(X) == len(y), \"X and y must be same length\"\n",
    "        for word, label in zip(X, y):\n",
    "            self.data.append({\n",
    "                'word': word,\n",
    "                'label': label\n",
    "            })\n",
    "        \n",
    "    def __getitem__(self, idx: int) -> List[int]:\n",
    "        preprocessed_word = [char2ind[char] for char in self.data[idx]['word']] \n",
    "\n",
    "        train_sample = {\n",
    "            \"text\": preprocessed_word,\n",
    "            \"label\": self.data[idx]['label']\n",
    "        }\n",
    "\n",
    "        return train_sample\n",
    "\n",
    "    def __len__(self) -> int:\n",
    "        return len(self.data)\n",
    "\n",
    "\n",
    "def collate_fn_with_padding(input_batch: List[List[int]], pad_id=char2ind['q'], max_len=MAX_WORD_LENGTH) -> torch.Tensor:\n",
    "    words_lengths = [len(x['text']) for x in input_batch]\n",
    "    max_word_length = min(max(words_lengths), max_len)\n",
    "\n",
    "    new_batch = []\n",
    "    for sequence in input_batch:\n",
    "        sequence['text'] = sequence['text'][:max_word_length]\n",
    "        for _ in range(max_word_length - len(sequence['text'])):\n",
    "            sequence['text'].append(pad_id)\n",
    "\n",
    "        new_batch.append(sequence['text'])\n",
    "    \n",
    "    words = torch.LongTensor(new_batch).to(device)\n",
    "    labels = torch.LongTensor([x['label'] for x in input_batch]).to(device)\n",
    "\n",
    "    new_batch = {\n",
    "        'input_ids': words,\n",
    "        'label': labels\n",
    "    }\n",
    "\n",
    "    return new_batch"
   ]
  },
  {
   "cell_type": "code",
   "execution_count": 42,
   "metadata": {},
   "outputs": [],
   "source": [
    "train_files = CustomDataset(X_train, y_train)\n",
    "val_files = CustomDataset(X_val, y_val)\n",
    "\n",
    "batch_size = 128\n",
    "train_loader = DataLoader(train_files, collate_fn=collate_fn_with_padding, batch_size=batch_size, shuffle=True)\n",
    "val_loader = DataLoader(val_files, collate_fn=collate_fn_with_padding, batch_size=batch_size, shuffle=False)"
   ]
  },
  {
   "cell_type": "code",
   "execution_count": 43,
   "metadata": {},
   "outputs": [],
   "source": [
    "def evaluate(model, val_dataloader) -> float:\n",
    "    model.eval()\n",
    "    \n",
    "    predictions = []\n",
    "    target = []\n",
    "    with torch.no_grad():\n",
    "        for batch in val_dataloader:\n",
    "            logits = model(batch['input_ids'])\n",
    "            predictions.append(logits.argmax(dim=1))\n",
    "            target.append(batch['label'])\n",
    "    \n",
    "    predictions = torch.cat(predictions)\n",
    "    target = torch.cat(target)\n",
    "    accuracy = (predictions == target).float().mean().item()\n",
    "    \n",
    "    model.train()\n",
    "    return accuracy"
   ]
  },
  {
   "cell_type": "code",
   "execution_count": 44,
   "metadata": {},
   "outputs": [],
   "source": [
    "def train(model, criterion, optimizer, num_epoch):\n",
    "    losses = []\n",
    "    acc = []\n",
    "\n",
    "    for epoch in range(num_epoch):\n",
    "        epoch_losses = []\n",
    "        model.train()\n",
    "        for i, batch in enumerate(tqdm(train_loader, desc=f'Training epoch {epoch}')):\n",
    "            optimizer.zero_grad()\n",
    "            logits = model(batch['input_ids'])\n",
    "            loss = criterion(logits, batch['label'])\n",
    "            loss.backward()\n",
    "            optimizer.step()\n",
    "\n",
    "            epoch_losses.append(loss.item())\n",
    "\n",
    "        acc.append(evaluate(model, val_loader))\n",
    "        losses.append(sum(epoch_losses) / len(epoch_losses))\n",
    "        \n",
    "        clear_output(True)\n",
    "        print(f\"Epoch #{epoch + 1}/{num_epoch} | loss: {losses[-1]} | acc: {acc[-1] * 100:.2f}\")\n",
    "        \n",
    "        fig, (ax1, ax2) = plt.subplots(1, 2, figsize=(8, 4))\n",
    "        ax1.plot(np.arange(len(losses)), losses)\n",
    "        ax1.set_title('Losses')\n",
    "        ax1.set_xlabel(\"epoch\")\n",
    "\n",
    "        ax2.plot(np.arange(len(acc)), acc)\n",
    "        ax2.set_title('Accuracy')\n",
    "        ax2.set_xlabel(\"epoch\")\n",
    "        plt.show()\n",
    "\n",
    "    return losses, acc"
   ]
  },
  {
   "cell_type": "code",
   "execution_count": 45,
   "metadata": {},
   "outputs": [],
   "source": [
    "class RNN(nn.Module):\n",
    "    def __init__(self, hidden_dim: int, aggregation_type: str = 'mean'):\n",
    "        super().__init__()\n",
    "        self.embedding = nn.Embedding(N_LETTERS, hidden_dim)\n",
    "        self.rnn = nn.GRU(hidden_dim, hidden_dim, batch_first=True, num_layers=2, dropout=0.1)\n",
    "        self.linear = nn.Linear(hidden_dim, hidden_dim)\n",
    "        self.projection = nn.Linear(hidden_dim, N_LETTERS)\n",
    "\n",
    "        self.non_lin = nn.Tanh()\n",
    "        self.dropout = nn.Dropout(p=0.15)\n",
    "\n",
    "        self.aggregation_type = aggregation_type\n",
    "\n",
    "    def forward(self, input_batch) -> torch.Tensor:\n",
    "        embeddings = self.embedding(input_batch)\n",
    "        output, _ = self.rnn(embeddings)\n",
    "\n",
    "        if self.aggregation_type == 'max':\n",
    "            output = output.max(dim=1)[0]\n",
    "        elif self.aggregation_type == 'mean':\n",
    "            output = output.mean(dim=1)\n",
    "        else:\n",
    "            raise ValueError(\"Invalid aggregation_type\")\n",
    "\n",
    "        output = self.dropout(self.linear(self.non_lin(output)))\n",
    "        prediction = self.projection(self.non_lin(output))\n",
    "\n",
    "        return prediction"
   ]
  },
  {
   "cell_type": "code",
   "execution_count": 46,
   "metadata": {},
   "outputs": [],
   "source": [
    "# model_max = RNN(hidden_dim=512, aggregation_type='max').to(device)\n",
    "# max_train_log = train(\n",
    "#     model_max, \n",
    "#     criterion=nn.CrossEntropyLoss(), \n",
    "#     optimizer=torch.optim.Adam(model_max.parameters()),\n",
    "#     num_epoch=15\n",
    "# )"
   ]
  },
  {
   "cell_type": "code",
   "execution_count": 47,
   "metadata": {},
   "outputs": [
    {
     "name": "stdout",
     "output_type": "stream",
     "text": [
      "Epoch #20/20 | loss: 0.05372012167808262 | acc: 96.44\n"
     ]
    },
    {
     "data": {
      "image/png": "[encoded data removed]",
      "text/plain": [
       "<Figure size 800x400 with 2 Axes>"
      ]
     },
     "metadata": {},
     "output_type": "display_data"
    },
    {
     "name": "stdout",
     "output_type": "stream",
     "text": [
      "96.51\n"
     ]
    }
   ],
   "source": [
    "model_mean = RNN(hidden_dim=256, aggregation_type='mean').to(device)\n",
    "\n",
    "params_count = sum(p.numel() for p in model_mean.parameters() if p.requires_grad)\n",
    "print(f'Number of trainable parameters: {params_count}')\n",
    "\n",
    "assert params_count <= 1e6\n",
    "\n",
    "mean_train_log = train(\n",
    "    model_mean, \n",
    "    criterion=nn.CrossEntropyLoss(), \n",
    "    optimizer=torch.optim.Adam(model_mean.parameters(), lr=5e-4),\n",
    "    num_epoch=20\n",
    ")\n",
    "\n",
    "_, acc_log = mean_train_log\n",
    "print(f\"{max(acc_log) * 100:0.2f}\")"
   ]
  },
  {
   "cell_type": "code",
   "execution_count": 48,
   "metadata": {},
   "outputs": [],
   "source": [
    "def plot_two_aggregations(max_log, mean_log):\n",
    "    loss_max, acc_max = max_log \n",
    "    loss_mean, acc_mean = mean_log \n",
    "    \n",
    "    fig, (ax1, ax2) = plt.subplots(1, 2, figsize=(8, 4))\n",
    "    ax1.plot(np.arange(len(loss_max)), loss_max, label='max')\n",
    "    ax1.plot(np.arange(len(loss_mean)), loss_mean, label='mean')\n",
    "    ax1.set_title('Losses')\n",
    "    ax1.set_xlabel(\"epoch\")\n",
    "    ax1.legend()\n",
    "\n",
    "    ax2.plot(np.arange(len(acc_max)), acc_max, label='max')\n",
    "    ax2.plot(np.arange(len(acc_mean)), acc_mean, label='mean')\n",
    "    ax2.set_title('Accuracy')\n",
    "    ax2.set_xlabel(\"epoch\")\n",
    "    ax2.legend()\n",
    "    plt.show()\n",
    "    \n",
    "    print(f\"Max best: {max(acc_max) * 100:0.2f}, mean best: {max(acc_mean) * 100:0.2f}\")"
   ]
  },
  {
   "cell_type": "code",
   "execution_count": 49,
   "metadata": {},
   "outputs": [],
   "source": [
    "# plot_two_aggregations(max_train_log, mean_train_log)"
   ]
  },
  {
   "cell_type": "code",
   "execution_count": 50,
   "metadata": {},
   "outputs": [
    {
     "data": {
      "text/plain": [
       "[2, 2, 2, 2, 2]"
      ]
     },
     "execution_count": 50,
     "metadata": {},
     "output_type": "execute_result"
    }
   ],
   "source": [
    "X_test = test\n",
    "y_test = range(len(X_test))\n",
    "\n",
    "model_mean.eval()\n",
    "\n",
    "test_files = CustomDataset(X_test, y_test)\n",
    "test_loader = DataLoader(test_files, collate_fn=collate_fn_with_padding, batch_size=128, shuffle=False)\n",
    "\n",
    "res = [0] * len(y_test)\n",
    "\n",
    "for batch in test_loader:\n",
    "    with torch.no_grad():\n",
    "        logits = model_mean(batch['input_ids'])\n",
    "        preds = torch.argmax(logits, 1)\n",
    "        \n",
    "        # print(batch['input_ids'])\n",
    "        # print(preds)\n",
    "        # print(batch['label'])\n",
    "        # break\n",
    "        \n",
    "        for prediction, pos in zip(preds, batch['label']):\n",
    "            res[pos] = prediction.item()\n",
    "\n",
    "res[:5]"
   ]
  },
  {
   "cell_type": "code",
   "execution_count": 51,
   "metadata": {},
   "outputs": [],
   "source": [
    "with open('rnn_predictions.txt', 'w', encoding=\"utf8\") as f:\n",
    "    for i, x in enumerate(res):\n",
    "        x -= 1\n",
    "        f.write(f\"{test[i][:x + 1]}^{test[i][x + 1:]}\\n\")"
   ]
  }
 ],
 "metadata": {
  "kernelspec": {
   "display_name": "Python 3",
   "language": "python",
   "name": "python3"
  },
  "language_info": {
   "codemirror_mode": {
    "name": "ipython",
    "version": 3
   },
   "file_extension": ".py",
   "mimetype": "text/x-python",
   "name": "python",
   "nbconvert_exporter": "python",
   "pygments_lexer": "ipython3",
   "version": "3.10.4"
  },
  "orig_nbformat": 4
 },
 "nbformat": 4,
 "nbformat_minor": 2
}
