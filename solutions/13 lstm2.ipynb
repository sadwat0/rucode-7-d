{
  "cells": [
    {
      "cell_type": "code",
      "execution_count": 82,
      "metadata": {
        "id": "kSpBoX9n64Br"
      },
      "outputs": [],
      "source": [
        "import numpy as np\n",
        "import torch\n",
        "import torch.nn as nn\n",
        "from tqdm import tqdm, trange\n",
        "import matplotlib.pyplot as plt\n",
        "from torch.utils.data import Dataset, DataLoader\n",
        "from sklearn.model_selection import train_test_split\n",
        "from typing import List\n",
        "from IPython.display import clear_output"
      ]
    },
    {
      "cell_type": "code",
      "execution_count": 83,
      "metadata": {
        "id": "FdkcCSbY64Bt"
      },
      "outputs": [],
      "source": [
        "LETTERS = \"qабвгдежзийклмнопрстуфхцчшщъыьэюяё\"\n",
        "VOWELS = \"аеиоуэюяыё\"\n",
        "N_LETTERS = len(LETTERS)\n",
        "MAX_WORD_LENGTH = 36\n",
        "\n",
        "char2ind = {char: i for i, char in enumerate(LETTERS)}\n",
        "ind2char = {i: char for char, i in char2ind.items()}"
      ]
    },
    {
      "cell_type": "code",
      "execution_count": 84,
      "metadata": {
        "colab": {
          "base_uri": "https://localhost:8080/"
        },
        "id": "qvx1tgBb64Bu",
        "outputId": "7569ca4d-5855-4532-a107-6f27c2f2af20"
      },
      "outputs": [
        {
          "output_type": "execute_result",
          "data": {
            "text/plain": [
              "['аа^к', 'аа^ка', 'аа^ке', 'аа^ки', 'аа^ков']"
            ]
          },
          "metadata": {},
          "execution_count": 84
        }
      ],
      "source": [
        "train = open('data/train_stresses_labels.txt', 'r', encoding=\"utf8\").readlines()\n",
        "for i in range(len(train)):\n",
        "    train[i] = train[i][:-1]\n",
        "train[:5]"
      ]
    },
    {
      "cell_type": "code",
      "execution_count": 85,
      "metadata": {
        "colab": {
          "base_uri": "https://localhost:8080/"
        },
        "id": "BlqxVDTA64Bv",
        "outputId": "adbb6bc3-e0aa-42d9-c1bd-b86b59de89bb"
      },
      "outputs": [
        {
          "output_type": "execute_result",
          "data": {
            "text/plain": [
              "['аакам', 'ааками', 'ааленец', 'аама', 'аамами']"
            ]
          },
          "metadata": {},
          "execution_count": 85
        }
      ],
      "source": [
        "test = open('data/public_test_stresses.txt', 'r', encoding=\"utf8\").readlines()\n",
        "for i in range(len(test)):\n",
        "    test[i] = test[i][:-1]\n",
        "test[:5]"
      ]
    },
    {
      "cell_type": "code",
      "execution_count": 86,
      "metadata": {
        "colab": {
          "base_uri": "https://localhost:8080/"
        },
        "id": "fLHZ1Lfe64Bv",
        "outputId": "0c7dae2c-bdb2-45ef-dcf6-68492e805875"
      },
      "outputs": [
        {
          "output_type": "stream",
          "name": "stderr",
          "text": [
            "100%|██████████| 588490/588490 [00:00<00:00, 1114787.15it/s]\n"
          ]
        },
        {
          "output_type": "execute_result",
          "data": {
            "text/plain": [
              "(['аак', 'аака', 'ааке', 'ааки', 'ааков'], [2, 2, 2, 2, 2])"
            ]
          },
          "metadata": {},
          "execution_count": 86
        }
      ],
      "source": [
        "X, y = [], []\n",
        "for i in tqdm(range(len(train))):\n",
        "    X.append(train[i].replace('^', ''))\n",
        "    correct_pos = train[i].find('^')\n",
        "    y.append(correct_pos)\n",
        "X[:5], y[:5]"
      ]
    },
    {
      "cell_type": "code",
      "execution_count": 87,
      "metadata": {
        "id": "fUXWdSca64Bw"
      },
      "outputs": [],
      "source": [
        "X_train, X_val, y_train, y_val = train_test_split(X, y, test_size=0.05, random_state=42)\n",
        "# X_train, y_train = X, y"
      ]
    },
    {
      "cell_type": "code",
      "execution_count": 88,
      "metadata": {
        "colab": {
          "base_uri": "https://localhost:8080/",
          "height": 36
        },
        "id": "HqVweHWI64Bw",
        "outputId": "62167f89-1a0a-4ebd-ef24-dad5ce5a28b7"
      },
      "outputs": [
        {
          "output_type": "execute_result",
          "data": {
            "text/plain": [
              "'cuda'"
            ],
            "application/vnd.google.colaboratory.intrinsic+json": {
              "type": "string"
            }
          },
          "metadata": {},
          "execution_count": 88
        }
      ],
      "source": [
        "device = 'cuda' if torch.cuda.is_available() else 'cpu'\n",
        "device"
      ]
    },
    {
      "cell_type": "code",
      "execution_count": 89,
      "metadata": {
        "id": "3dtu49-V64Bw"
      },
      "outputs": [],
      "source": [
        "class CustomDataset:\n",
        "    def __init__(self, X, y):\n",
        "        self.data = []\n",
        "        self.pad_id = char2ind['q']\n",
        "\n",
        "        assert len(X) == len(y), \"X and y must be same length\"\n",
        "        for word, label in zip(X, y):\n",
        "            self.data.append({\n",
        "                'word': word,\n",
        "                'label': label\n",
        "            })\n",
        "\n",
        "    def __getitem__(self, idx: int) -> List[int]:\n",
        "        preprocessed_word = [char2ind[char] for char in self.data[idx]['word']]\n",
        "\n",
        "        train_sample = {\n",
        "            \"text\": preprocessed_word,\n",
        "            \"label\": self.data[idx]['label']\n",
        "        }\n",
        "\n",
        "        return train_sample\n",
        "\n",
        "    def __len__(self) -> int:\n",
        "        return len(self.data)\n",
        "\n",
        "\n",
        "def collate_fn_with_padding(input_batch: List[List[int]], pad_id=char2ind['q'], max_len=MAX_WORD_LENGTH) -> torch.Tensor:\n",
        "    words_lengths = [len(x['text']) for x in input_batch]\n",
        "    # max_word_length = min(max(words_lengths), max_len)\n",
        "    max_word_length = max_len\n",
        "\n",
        "    new_batch = []\n",
        "    for sequence in input_batch:\n",
        "        sequence['text'] = sequence['text'][:max_word_length]\n",
        "        for _ in range(max_word_length - len(sequence['text'])):\n",
        "            sequence['text'].append(pad_id)\n",
        "\n",
        "        new_batch.append(sequence['text'])\n",
        "\n",
        "    words = torch.LongTensor(new_batch).to(device)\n",
        "    labels = torch.LongTensor([x['label'] for x in input_batch]).to(device)\n",
        "\n",
        "    new_batch = {\n",
        "        'input_ids': words,\n",
        "        'label': labels\n",
        "    }\n",
        "\n",
        "    return new_batch"
      ]
    },
    {
      "cell_type": "code",
      "execution_count": 90,
      "metadata": {
        "id": "Ayq3_jzx64Bx"
      },
      "outputs": [],
      "source": [
        "train_files = CustomDataset(X_train, y_train)\n",
        "val_files = CustomDataset(X_val, y_val)\n",
        "\n",
        "batch_size = 128\n",
        "train_loader = DataLoader(train_files, collate_fn=collate_fn_with_padding, batch_size=batch_size, shuffle=True)\n",
        "val_loader = DataLoader(val_files, collate_fn=collate_fn_with_padding, batch_size=batch_size, shuffle=False)"
      ]
    },
    {
      "cell_type": "code",
      "execution_count": 91,
      "metadata": {
        "id": "vPajfGUe64Bx"
      },
      "outputs": [],
      "source": [
        "def evaluate(model, val_dataloader) -> float:\n",
        "    model.eval()\n",
        "\n",
        "    predictions = []\n",
        "    target = []\n",
        "    with torch.no_grad():\n",
        "        for batch in val_dataloader:\n",
        "            logits = model(batch['input_ids'])\n",
        "            predictions.append(logits.argmax(dim=1))\n",
        "            target.append(batch['label'])\n",
        "\n",
        "    predictions = torch.cat(predictions)\n",
        "    target = torch.cat(target)\n",
        "    accuracy = (predictions == target).float().mean().item()\n",
        "\n",
        "    model.train()\n",
        "    return accuracy"
      ]
    },
    {
      "cell_type": "code",
      "execution_count": 92,
      "metadata": {
        "id": "m9lgNIGo64By"
      },
      "outputs": [],
      "source": [
        "def train(model, criterion, optimizer, num_epoch):\n",
        "    losses = []\n",
        "    acc = []\n",
        "\n",
        "    for epoch in range(num_epoch):\n",
        "        epoch_losses = []\n",
        "        model.train()\n",
        "        for i, batch in enumerate(tqdm(train_loader, desc=f'Training epoch {epoch}')):\n",
        "            optimizer.zero_grad()\n",
        "            logits = model(batch['input_ids'])\n",
        "            loss = criterion(logits, batch['label'])\n",
        "            loss.backward()\n",
        "            optimizer.step()\n",
        "\n",
        "            epoch_losses.append(loss.item())\n",
        "\n",
        "        acc.append(evaluate(model, val_loader))\n",
        "        losses.append(sum(epoch_losses) / len(epoch_losses))\n",
        "\n",
        "        clear_output(True)\n",
        "        print(f\"Epoch #{epoch + 1}/{num_epoch} | loss: {losses[-1]} | acc: {acc[-1] * 100:.2f}\")\n",
        "\n",
        "        fig, (ax1, ax2) = plt.subplots(1, 2, figsize=(8, 4))\n",
        "        ax1.plot(np.arange(len(losses)), losses)\n",
        "        ax1.set_title('Losses')\n",
        "        ax1.set_xlabel(\"epoch\")\n",
        "\n",
        "        ax2.plot(np.arange(len(acc)), acc)\n",
        "        ax2.set_title('Accuracy')\n",
        "        ax2.set_xlabel(\"epoch\")\n",
        "        plt.show()\n",
        "\n",
        "    return losses, acc"
      ]
    },
    {
      "cell_type": "code",
      "execution_count": 93,
      "metadata": {
        "id": "jNjc9PO364By"
      },
      "outputs": [],
      "source": [
        "class RNN(nn.Module):\n",
        "    def __init__(self, hidden_dim: int, aggregation_type: str = 'weighted'):\n",
        "        super().__init__()\n",
        "        self.embedding = nn.Embedding(N_LETTERS, hidden_dim)\n",
        "        self.rnn = nn.LSTM(hidden_dim, hidden_dim, batch_first=True, num_layers=2, dropout=0.1, bidirectional=True)\n",
        "        self.linear = nn.Linear(2 * hidden_dim, hidden_dim)\n",
        "        self.projection = nn.Linear(2 * hidden_dim, N_LETTERS)\n",
        "\n",
        "        self.non_lin = nn.Tanh()\n",
        "        self.dropout = nn.Dropout(p=0.15)\n",
        "\n",
        "        self.aggregation_layer = torch.nn.Conv1d(in_channels=MAX_WORD_LENGTH, out_channels=1, kernel_size=1)\n",
        "        self.aggregation_layer2 = torch.nn.Conv1d(in_channels=MAX_WORD_LENGTH, out_channels=1, kernel_size=1)\n",
        "        self.aggregation_type = aggregation_type\n",
        "\n",
        "    def forward(self, input_batch) -> torch.Tensor:\n",
        "        embeddings = self.embedding(input_batch)\n",
        "        output, _ = self.rnn(embeddings)\n",
        "\n",
        "        batch_size = output.shape[0]\n",
        "\n",
        "        if self.aggregation_type == 'max':\n",
        "            output = output.max(dim=1)[0]\n",
        "        elif self.aggregation_type == 'mean':\n",
        "            output = output.mean(dim=1)\n",
        "        elif self.aggregation_type == 'weighted':\n",
        "            output = self.aggregation_layer(output).view(batch_size, -1)\n",
        "        else:\n",
        "            raise ValueError(\"Invalid aggregation_type\")\n",
        "\n",
        "        embeddings = self.aggregation_layer2(embeddings).view(batch_size, -1)\n",
        "        output = self.dropout(self.linear(self.non_lin(output)))\n",
        "        # print(embeddings.shape, output.shape)\n",
        "\n",
        "        output = torch.cat((output, embeddings), dim=1)\n",
        "        # print(output.shape)\n",
        "        # assert 0\n",
        "        prediction = self.projection(self.non_lin(output))\n",
        "\n",
        "        return prediction"
      ]
    },
    {
      "cell_type": "code",
      "execution_count": 94,
      "metadata": {
        "colab": {
          "base_uri": "https://localhost:8080/",
          "height": 445
        },
        "id": "HYPrAM4Z64By",
        "outputId": "dad07cfe-9017-4cf6-e285-a99080a80802"
      },
      "outputs": [
        {
          "output_type": "stream",
          "name": "stdout",
          "text": [
            "Epoch #30/30 | loss: 0.016866002782497048 | acc: 97.34\n"
          ]
        },
        {
          "output_type": "display_data",
          "data": {
            "text/plain": [
              "<Figure size 800x400 with 2 Axes>"
            ],
            "image/png": "[encoded data removed]"
          },
          "metadata": {}
        },
        {
          "output_type": "stream",
          "name": "stdout",
          "text": [
            "97.36\n"
          ]
        }
      ],
      "source": [
        "model = RNN(hidden_dim=150, aggregation_type='weighted').to(device)\n",
        "\n",
        "params_count = sum(p.numel() for p in model.parameters() if p.requires_grad)\n",
        "print(f'Number of trainable parameters: {params_count}')\n",
        "\n",
        "assert params_count <= 1e6\n",
        "\n",
        "mean_train_log = train(\n",
        "    model,\n",
        "    criterion=nn.CrossEntropyLoss(),\n",
        "    optimizer=torch.optim.Adam(model.parameters(), lr=2e-4),\n",
        "    num_epoch=30\n",
        ")\n",
        "\n",
        "_, acc_log = mean_train_log\n",
        "print(f\"{max(acc_log) * 100:0.2f}\")"
      ]
    },
    {
      "cell_type": "code",
      "execution_count": 95,
      "metadata": {
        "colab": {
          "base_uri": "https://localhost:8080/"
        },
        "id": "sOMmEoBU64Bz",
        "outputId": "0e69a912-abf0-4a0b-f482-f3dfba58b533"
      },
      "outputs": [
        {
          "output_type": "stream",
          "name": "stdout",
          "text": [
            "Number of trainable parameters: 965358\n"
          ]
        }
      ],
      "source": [
        "print(f'Number of trainable parameters: {params_count}')"
      ]
    },
    {
      "cell_type": "code",
      "execution_count": 96,
      "metadata": {
        "id": "S3I_5E-N64Bz"
      },
      "outputs": [],
      "source": [
        "def plot_two_aggregations(max_log, mean_log):\n",
        "    loss_max, acc_max = max_log\n",
        "    loss_mean, acc_mean = mean_log\n",
        "\n",
        "    fig, (ax1, ax2) = plt.subplots(1, 2, figsize=(8, 4))\n",
        "    ax1.plot(np.arange(len(loss_max)), loss_max, label='max')\n",
        "    ax1.plot(np.arange(len(loss_mean)), loss_mean, label='mean')\n",
        "    ax1.set_title('Losses')\n",
        "    ax1.set_xlabel(\"epoch\")\n",
        "    ax1.legend()\n",
        "\n",
        "    ax2.plot(np.arange(len(acc_max)), acc_max, label='max')\n",
        "    ax2.plot(np.arange(len(acc_mean)), acc_mean, label='mean')\n",
        "    ax2.set_title('Accuracy')\n",
        "    ax2.set_xlabel(\"epoch\")\n",
        "    ax2.legend()\n",
        "    plt.show()\n",
        "\n",
        "    print(f\"Max best: {max(acc_max) * 100:0.2f}, mean best: {max(acc_mean) * 100:0.2f}\")"
      ]
    },
    {
      "cell_type": "code",
      "execution_count": 97,
      "metadata": {
        "id": "jyNjM1Dj64Bz"
      },
      "outputs": [],
      "source": [
        "# plot_two_aggregations(max_train_log, mean_train_log)"
      ]
    },
    {
      "cell_type": "code",
      "execution_count": 98,
      "metadata": {
        "colab": {
          "base_uri": "https://localhost:8080/"
        },
        "id": "LEMlW_Fi64Bz",
        "outputId": "71f8b59d-f248-4431-ef3d-fce85a34a01b"
      },
      "outputs": [
        {
          "output_type": "execute_result",
          "data": {
            "text/plain": [
              "[2, 2, 4, 2, 2]"
            ]
          },
          "metadata": {},
          "execution_count": 98
        }
      ],
      "source": [
        "X_test = test\n",
        "y_test = range(len(X_test))\n",
        "\n",
        "model.eval()\n",
        "\n",
        "test_files = CustomDataset(X_test, y_test)\n",
        "test_loader = DataLoader(test_files, collate_fn=collate_fn_with_padding, batch_size=128, shuffle=False)\n",
        "\n",
        "res = [0] * len(y_test)\n",
        "\n",
        "for batch in test_loader:\n",
        "    with torch.no_grad():\n",
        "        logits = model(batch['input_ids'])\n",
        "        preds = torch.argmax(logits, 1)\n",
        "\n",
        "        # print(batch['input_ids'])\n",
        "        # print(preds)\n",
        "        # print(batch['label'])\n",
        "        # break\n",
        "\n",
        "        for prediction, pos in zip(preds, batch['label']):\n",
        "            res[pos] = prediction.item()\n",
        "\n",
        "res[:5]"
      ]
    },
    {
      "cell_type": "code",
      "execution_count": 99,
      "metadata": {
        "id": "_ZLsjSI264B0"
      },
      "outputs": [],
      "source": [
        "with open('rnn_predictions.txt', 'w', encoding=\"utf8\") as f:\n",
        "    for i, x in enumerate(res):\n",
        "        x -= 1\n",
        "        f.write(f\"{test[i][:x + 1]}^{test[i][x + 1:]}\\n\")"
      ]
    },
    {
      "cell_type": "code",
      "source": [
        "train(\n",
        "    model,\n",
        "    criterion=nn.CrossEntropyLoss(),\n",
        "    optimizer=torch.optim.Adam(model.parameters(), lr=5e-5),\n",
        "    num_epoch=5\n",
        ")"
      ],
      "metadata": {
        "colab": {
          "base_uri": "https://localhost:8080/",
          "height": 601
        },
        "id": "36EwlQpcR2E1",
        "outputId": "d3c10c37-f080-4ccf-e12a-6bad84f4ee04"
      },
      "execution_count": 100,
      "outputs": [
        {
          "output_type": "stream",
          "name": "stdout",
          "text": [
            "Epoch #5/5 | loss: 0.0033933352387526153 | acc: 97.76\n"
          ]
        },
        {
          "output_type": "display_data",
          "data": {
            "text/plain": [
              "<Figure size 800x400 with 2 Axes>"
            ],
            "image/png": "[encoded data removed]"
          },
          "metadata": {}
        },
        {
          "output_type": "execute_result",
          "data": {
            "text/plain": [
              "([0.007713980286416533,\n",
              "  0.004970972859579918,\n",
              "  0.004137849099844051,\n",
              "  0.003890262824732737,\n",
              "  0.0033933352387526153],\n",
              " [0.9764825701713562,\n",
              "  0.9768224358558655,\n",
              "  0.9779438972473145,\n",
              "  0.9779778718948364,\n",
              "  0.9775700569152832])"
            ]
          },
          "metadata": {},
          "execution_count": 100
        }
      ]
    },
    {
      "cell_type": "code",
      "source": [
        "X_test = test\n",
        "y_test = range(len(X_test))\n",
        "\n",
        "model.eval()\n",
        "\n",
        "test_files = CustomDataset(X_test, y_test)\n",
        "test_loader = DataLoader(test_files, collate_fn=collate_fn_with_padding, batch_size=128, shuffle=False)\n",
        "\n",
        "res = [0] * len(y_test)\n",
        "\n",
        "for batch in test_loader:\n",
        "    with torch.no_grad():\n",
        "        logits = model(batch['input_ids'])\n",
        "        preds = torch.argmax(logits, 1)\n",
        "\n",
        "        # print(batch['input_ids'])\n",
        "        # print(preds)\n",
        "        # print(batch['label'])\n",
        "        # break\n",
        "\n",
        "        for prediction, pos in zip(preds, batch['label']):\n",
        "            res[pos] = prediction.item()\n",
        "\n",
        "res[:5]"
      ],
      "metadata": {
        "colab": {
          "base_uri": "https://localhost:8080/"
        },
        "id": "jFDdK-zRU4Q2",
        "outputId": "7432b175-724e-49e6-9031-bcb9974d7dce"
      },
      "execution_count": 101,
      "outputs": [
        {
          "output_type": "execute_result",
          "data": {
            "text/plain": [
              "[2, 2, 4, 2, 2]"
            ]
          },
          "metadata": {},
          "execution_count": 101
        }
      ]
    },
    {
      "cell_type": "code",
      "source": [
        "with open('rnn_predictions.txt', 'w', encoding=\"utf8\") as f:\n",
        "    for i, x in enumerate(res):\n",
        "        x -= 1\n",
        "        f.write(f\"{test[i][:x + 1]}^{test[i][x + 1:]}\\n\")"
      ],
      "metadata": {
        "id": "G-R5nQurU6Hl"
      },
      "execution_count": 102,
      "outputs": []
    },
    {
      "cell_type": "code",
      "source": [
        "train(\n",
        "    model,\n",
        "    criterion=nn.CrossEntropyLoss(),\n",
        "    optimizer=torch.optim.Adam(model.parameters(), lr=1e-5),\n",
        "    num_epoch=5\n",
        ")"
      ],
      "metadata": {
        "colab": {
          "base_uri": "https://localhost:8080/",
          "height": 601
        },
        "id": "tdnjm9bUVkSi",
        "outputId": "8524a5c0-d1e5-4b92-b5fc-7df3c4b98993"
      },
      "execution_count": 103,
      "outputs": [
        {
          "output_type": "stream",
          "name": "stdout",
          "text": [
            "Epoch #5/5 | loss: 0.001638078899424607 | acc: 97.85\n"
          ]
        },
        {
          "output_type": "display_data",
          "data": {
            "text/plain": [
              "<Figure size 800x400 with 2 Axes>"
            ],
            "image/png": "[encoded data removed]"
          },
          "metadata": {}
        },
        {
          "output_type": "execute_result",
          "data": {
            "text/plain": [
              "([0.0024112546632549586,\n",
              "  0.002063517632786864,\n",
              "  0.001820889757129154,\n",
              "  0.0017596597564473223,\n",
              "  0.001638078899424607],\n",
              " [0.9779099225997925,\n",
              "  0.9785556197166443,\n",
              "  0.9784876704216003,\n",
              "  0.9784536957740784,\n",
              "  0.9784876704216003])"
            ]
          },
          "metadata": {},
          "execution_count": 103
        }
      ]
    },
    {
      "cell_type": "code",
      "source": [
        "X_test = test\n",
        "y_test = range(len(X_test))\n",
        "\n",
        "model.eval()\n",
        "\n",
        "test_files = CustomDataset(X_test, y_test)\n",
        "test_loader = DataLoader(test_files, collate_fn=collate_fn_with_padding, batch_size=128, shuffle=False)\n",
        "\n",
        "res = [0] * len(y_test)\n",
        "\n",
        "for batch in test_loader:\n",
        "    with torch.no_grad():\n",
        "        logits = model(batch['input_ids'])\n",
        "        preds = torch.argmax(logits, 1)\n",
        "\n",
        "        # print(batch['input_ids'])\n",
        "        # print(preds)\n",
        "        # print(batch['label'])\n",
        "        # break\n",
        "\n",
        "        for prediction, pos in zip(preds, batch['label']):\n",
        "            res[pos] = prediction.item()\n",
        "\n",
        "res[:5]"
      ],
      "metadata": {
        "colab": {
          "base_uri": "https://localhost:8080/"
        },
        "id": "2FRig97iVmIm",
        "outputId": "12adfb21-d0ed-458a-8662-620c6197b71a"
      },
      "execution_count": 104,
      "outputs": [
        {
          "output_type": "execute_result",
          "data": {
            "text/plain": [
              "[2, 2, 4, 2, 2]"
            ]
          },
          "metadata": {},
          "execution_count": 104
        }
      ]
    },
    {
      "cell_type": "code",
      "source": [
        "with open('rnn_predictions.txt', 'w', encoding=\"utf8\") as f:\n",
        "    for i, x in enumerate(res):\n",
        "        x -= 1\n",
        "        f.write(f\"{test[i][:x + 1]}^{test[i][x + 1:]}\\n\")"
      ],
      "metadata": {
        "id": "VB4CLMkLVn2e"
      },
      "execution_count": 105,
      "outputs": []
    }
  ],
  "metadata": {
    "kernelspec": {
      "display_name": "Python 3",
      "name": "python3"
    },
    "language_info": {
      "codemirror_mode": {
        "name": "ipython",
        "version": 3
      },
      "file_extension": ".py",
      "mimetype": "text/x-python",
      "name": "python",
      "nbconvert_exporter": "python",
      "pygments_lexer": "ipython3",
      "version": "3.10.4"
    },
    "orig_nbformat": 4,
    "colab": {
      "provenance": [],
      "gpuType": "T4"
    },
    "accelerator": "GPU"
  },
  "nbformat": 4,
  "nbformat_minor": 0
}